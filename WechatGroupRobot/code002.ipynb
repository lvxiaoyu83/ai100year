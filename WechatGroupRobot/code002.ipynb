{
 "cells": [
  {
   "cell_type": "code",
   "execution_count": 1,
   "metadata": {},
   "outputs": [],
   "source": [
    "import pyautogui as pag "
   ]
  },
  {
   "cell_type": "code",
   "execution_count": 2,
   "metadata": {},
   "outputs": [],
   "source": [
    "im1 = pag.screenshot()\n",
    "im1.save(\"images/test003.png\")"
   ]
  },
  {
   "cell_type": "code",
   "execution_count": 4,
   "metadata": {},
   "outputs": [],
   "source": [
    "with open(file=\"data/result.csv\", mode='a', encoding='utf-8') as f:\n",
    "    f.write(\"a2\")"
   ]
  },
  {
   "cell_type": "code",
   "execution_count": 7,
   "metadata": {},
   "outputs": [],
   "source": [
    "import csv\n",
    "\n",
    "# Create the dictionary (=row)\n",
    "row = {'A':'Y1', 'B':'Y2', 'C':'Y3'}\n",
    "\n",
    "# Open the CSV file in \"append\" mode\n",
    "with open('data/my_file.csv', 'a', newline='') as f:\n",
    "\n",
    "    # Create a dictionary writer with the dict keys as column fieldnames\n",
    "    writer = csv.DictWriter(f, fieldnames=row.keys())\n",
    "\n",
    "    # Append single row to CSV\n",
    "    writer.writerow(row)"
   ]
  },
  {
   "cell_type": "code",
   "execution_count": null,
   "metadata": {},
   "outputs": [],
   "source": [
    "row = {'A':'Y1', 'B':'Y2', 'C':'Y3'}\n",
    "import csv\n",
    "def append_question2file(question:str) -> None:\n",
    "\n",
    "    with open(file = \"data/user_question.csv\", mode='a', newline='') as f:\n",
    "        witer = csv.DictWriter(f, fieldnames=row.keys())\n",
    "        writer.writerow(row)\n"
   ]
  }
 ],
 "metadata": {
  "kernelspec": {
   "display_name": "mynet2",
   "language": "python",
   "name": "python3"
  },
  "language_info": {
   "codemirror_mode": {
    "name": "ipython",
    "version": 3
   },
   "file_extension": ".py",
   "mimetype": "text/x-python",
   "name": "python",
   "nbconvert_exporter": "python",
   "pygments_lexer": "ipython3",
   "version": "3.10.8"
  },
  "orig_nbformat": 4,
  "vscode": {
   "interpreter": {
    "hash": "110bc624a448454d574a0cd6cc76359fd86f75739e493913b3d71c2e04f2ffdb"
   }
  }
 },
 "nbformat": 4,
 "nbformat_minor": 2
}
