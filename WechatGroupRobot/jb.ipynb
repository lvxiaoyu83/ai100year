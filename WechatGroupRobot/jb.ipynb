{
 "cells": [
  {
   "cell_type": "code",
   "execution_count": null,
   "id": "2fb8083f",
   "metadata": {},
   "outputs": [],
   "source": [
    "from tools import *\n",
    "from pachong2 import *"
   ]
  },
  {
   "cell_type": "code",
   "execution_count": null,
   "id": "cd44e603",
   "metadata": {},
   "outputs": [],
   "source": [
    "# open_dingyuehao_1()\n",
    "# open_dingyuehao_2()"
   ]
  },
  {
   "cell_type": "code",
   "execution_count": null,
   "id": "09ef5476",
   "metadata": {},
   "outputs": [],
   "source": [
    "def gooo():\n",
    "    ulist = wechat_article_list(99, 1)\n",
    "    \n",
    "    f_meta = open(\"wechat_url\" + \"_\" + now_str() + \".txt\", \"w\", encoding=\"utf-8\")\n",
    "    f_ctt = open(\"wechat_content\" + \"_\" + now_str() + \".txt\", \"w\", encoding=\"utf-8\")\n",
    "    \n",
    "    for url in ulist:\n",
    "        hao, title, desc, ctt = get_wechat_artile_content(url)\n",
    "        print(\"%s : %s : %s\\n\" % (hao, title, desc))\n",
    "        \n",
    "        f_meta.write(\"%s : %s : %s: %s\\n\" % (hao, title, desc, url))\n",
    "        f_meta.flush()\n",
    "        \n",
    "        f_ctt.write(\"%s : %s : %s: %s\\n\" % (hao, title, desc, url))\n",
    "        f_ctt.write(\"%s\\n\\n\\n\\n\\n\\n\" % ctt)\n",
    "        f_ctt.flush()\n",
    "    \n",
    "    f_meta.close()\n",
    "    f_ctt.close()\n",
    "gooo()"
   ]
  },
  {
   "cell_type": "code",
   "execution_count": null,
   "id": "29d44c18",
   "metadata": {},
   "outputs": [],
   "source": []
  }
 ],
 "metadata": {
  "kernelspec": {
   "display_name": "Python 3 (ipykernel)",
   "language": "python",
   "name": "python3"
  },
  "language_info": {
   "codemirror_mode": {
    "name": "ipython",
    "version": 3
   },
   "file_extension": ".py",
   "mimetype": "text/x-python",
   "name": "python",
   "nbconvert_exporter": "python",
   "pygments_lexer": "ipython3",
   "version": "3.10.9"
  }
 },
 "nbformat": 4,
 "nbformat_minor": 5
}
