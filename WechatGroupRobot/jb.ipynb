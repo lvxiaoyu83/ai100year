{
 "cells": [
  {
   "cell_type": "code",
   "execution_count": null,
   "id": "2fb8083f",
   "metadata": {},
   "outputs": [],
   "source": [
    "from tools import *\n",
    "from pachong2 import *\n",
    "from openai_tools import *"
   ]
  },
  {
   "cell_type": "code",
   "execution_count": null,
   "id": "09ef5476",
   "metadata": {},
   "outputs": [],
   "source": [
    "\n",
    "def gooo():\n",
    "    sys_prompt = \"跟据用户给出的文字提取100字的摘要：\"\n",
    "    ulist = wechat_article_list(5, 1)\n",
    "    now = now_str()\n",
    "    \n",
    "    f_meta = open(\"_wechat_url\" + \"_\" + now + \".md\", \"w\", encoding=\"utf-8\")\n",
    "    f_ctt = open(\"_wechat_content\" + \"_\" + now + \".txt\", \"w\", encoding=\"utf-8\")\n",
    "    \n",
    "    for url in ulist:\n",
    "        hao, title, desc, ctt = get_wechat_artile_content(url)\n",
    "        _, abs = call_with_sys(sys_prompt, ctt) \n",
    "\n",
    "        print(\"%s || %s \\n\" % (hao, title))#desc\n",
    "        print(abs)\n",
    "        print(\"\\n\")\n",
    "        \n",
    "        f_meta.write(\"### %s || %s \\n\\n %s\\n\\n %s\\n<hr/>\\n\\n\\n\\n\\n\" % (hao, title, abs, url))\n",
    "        f_meta.flush()\n",
    "        \n",
    "        f_ctt.write(\"%s : %s : %s: %s\\n\" % (hao, title, desc, url))\n",
    "        f_ctt.write(\"%s\\n\\n\\n\\n\\n\\n\" % ctt)\n",
    "        f_ctt.flush()\n",
    "        \n",
    "        time.sleep(0.8)\n",
    "    \n",
    "    f_meta.close()\n",
    "    f_ctt.close()\n",
    "# open_dingyuehao_2()\n",
    "gooo()"
   ]
  },
  {
   "cell_type": "code",
   "execution_count": null,
   "id": "29d44c18",
   "metadata": {},
   "outputs": [],
   "source": []
  }
 ],
 "metadata": {
  "kernelspec": {
   "display_name": "Python 3 (ipykernel)",
   "language": "python",
   "name": "python3"
  },
  "language_info": {
   "codemirror_mode": {
    "name": "ipython",
    "version": 3
   },
   "file_extension": ".py",
   "mimetype": "text/x-python",
   "name": "python",
   "nbconvert_exporter": "python",
   "pygments_lexer": "ipython3",
   "version": "3.10.9"
  }
 },
 "nbformat": 4,
 "nbformat_minor": 5
}
