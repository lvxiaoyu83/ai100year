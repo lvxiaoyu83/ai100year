{
 "cells": [
  {
   "cell_type": "code",
   "execution_count": 1,
   "id": "b1f87c8f",
   "metadata": {},
   "outputs": [],
   "source": [
    "# https://huggingface.co/learn/nlp-course/zh-CN/chapter7/6?fw=pt#%E5%88%9D%E5%A7%8B%E5%8C%96%E6%96%B0%E6%A8%A1%E5%9E%8B"
   ]
  },
  {
   "cell_type": "code",
   "execution_count": 2,
   "id": "91893300",
   "metadata": {},
   "outputs": [
    {
     "name": "stdout",
     "output_type": "stream",
     "text": [
      "GPT-2 size: 124.2M parameters\n"
     ]
    }
   ],
   "source": [
    "from transformers import AutoTokenizer, GPT2LMHeadModel, AutoConfig\n",
    "\n",
    "context_length = 128\n",
    "tokenizer = AutoTokenizer.from_pretrained(\"huggingface-course/code-search-net-tokenizer\")\n",
    "\n",
    "\n",
    "config = AutoConfig.from_pretrained(\n",
    "    \"gpt2\",\n",
    "    vocab_size=len(tokenizer),\n",
    "    n_ctx=context_length,\n",
    "    bos_token_id=tokenizer.bos_token_id,\n",
    "    eos_token_id=tokenizer.eos_token_id,\n",
    ")\n",
    "\n",
    "model = GPT2LMHeadModel(config)\n",
    "model_size = sum(t.numel() for t in model.parameters())\n",
    "print(f\"GPT-2 size: {model_size/1000**2:.1f}M parameters\")"
   ]
  },
  {
   "cell_type": "code",
   "execution_count": 3,
   "id": "b9b1e788",
   "metadata": {},
   "outputs": [
    {
     "name": "stdout",
     "output_type": "stream",
     "text": [
      "GPT2LMHeadModel(\n",
      "  (transformer): GPT2Model(\n",
      "    (wte): Embedding(50000, 768)\n",
      "    (wpe): Embedding(1024, 768)\n",
      "    (drop): Dropout(p=0.1, inplace=False)\n",
      "    (h): ModuleList(\n",
      "      (0-11): 12 x GPT2Block(\n",
      "        (ln_1): LayerNorm((768,), eps=1e-05, elementwise_affine=True)\n",
      "        (attn): GPT2Attention(\n",
      "          (c_attn): Conv1D()\n",
      "          (c_proj): Conv1D()\n",
      "          (attn_dropout): Dropout(p=0.1, inplace=False)\n",
      "          (resid_dropout): Dropout(p=0.1, inplace=False)\n",
      "        )\n",
      "        (ln_2): LayerNorm((768,), eps=1e-05, elementwise_affine=True)\n",
      "        (mlp): GPT2MLP(\n",
      "          (c_fc): Conv1D()\n",
      "          (c_proj): Conv1D()\n",
      "          (act): NewGELUActivation()\n",
      "          (dropout): Dropout(p=0.1, inplace=False)\n",
      "        )\n",
      "      )\n",
      "    )\n",
      "    (ln_f): LayerNorm((768,), eps=1e-05, elementwise_affine=True)\n",
      "  )\n",
      "  (lm_head): Linear(in_features=768, out_features=50000, bias=False)\n",
      ")\n"
     ]
    }
   ],
   "source": [
    "print(model)"
   ]
  },
  {
   "cell_type": "code",
   "execution_count": 4,
   "id": "14643612",
   "metadata": {},
   "outputs": [
    {
     "name": "stdout",
     "output_type": "stream",
     "text": [
      "Collecting torchviz\n",
      "  Downloading torchviz-0.0.2.tar.gz (4.9 kB)\n",
      "  Preparing metadata (setup.py): started\n",
      "  Preparing metadata (setup.py): finished with status 'done'\n",
      "Requirement already satisfied: torch in c:\\users\\lvxia\\anaconda3\\envs\\babagpt\\lib\\site-packages (from torchviz) (2.0.1+cu117)\n",
      "Requirement already satisfied: graphviz in c:\\users\\lvxia\\anaconda3\\envs\\babagpt\\lib\\site-packages (from torchviz) (0.20.1)\n",
      "Requirement already satisfied: networkx in c:\\users\\lvxia\\anaconda3\\envs\\babagpt\\lib\\site-packages (from torch->torchviz) (3.1)\n",
      "Requirement already satisfied: sympy in c:\\users\\lvxia\\anaconda3\\envs\\babagpt\\lib\\site-packages (from torch->torchviz) (1.12)\n",
      "Requirement already satisfied: jinja2 in c:\\users\\lvxia\\anaconda3\\envs\\babagpt\\lib\\site-packages (from torch->torchviz) (3.1.2)\n",
      "Requirement already satisfied: filelock in c:\\users\\lvxia\\anaconda3\\envs\\babagpt\\lib\\site-packages (from torch->torchviz) (3.12.0)\n",
      "Requirement already satisfied: typing-extensions in c:\\users\\lvxia\\anaconda3\\envs\\babagpt\\lib\\site-packages (from torch->torchviz) (4.6.3)\n",
      "Requirement already satisfied: MarkupSafe>=2.0 in c:\\users\\lvxia\\anaconda3\\envs\\babagpt\\lib\\site-packages (from jinja2->torch->torchviz) (2.1.3)\n",
      "Requirement already satisfied: mpmath>=0.19 in c:\\users\\lvxia\\anaconda3\\envs\\babagpt\\lib\\site-packages (from sympy->torch->torchviz) (1.3.0)\n",
      "Building wheels for collected packages: torchviz\n",
      "  Building wheel for torchviz (setup.py): started\n",
      "  Building wheel for torchviz (setup.py): finished with status 'done'\n",
      "  Created wheel for torchviz: filename=torchviz-0.0.2-py3-none-any.whl size=4137 sha256=46e30f5c4684cb99aff67b355921b07805155297331dc31e813a193c8a8db01f\n",
      "  Stored in directory: c:\\users\\lvxia\\appdata\\local\\pip\\cache\\wheels\\05\\7d\\1b\\8306781244e42ede119edbb053bdcda1c1f424ca226165a417\n",
      "Successfully built torchviz\n",
      "Installing collected packages: torchviz\n",
      "Successfully installed torchviz-0.0.2\n"
     ]
    }
   ],
   "source": [
    "!pip install torchviz"
   ]
  },
  {
   "cell_type": "code",
   "execution_count": 5,
   "id": "409ad3ab",
   "metadata": {},
   "outputs": [],
   "source": [
    "# from torchviz import make_dot\n",
    "\n",
    "# model = Net()\n",
    "# y = model(X)"
   ]
  },
  {
   "cell_type": "code",
   "execution_count": 6,
   "id": "0ca45d22",
   "metadata": {},
   "outputs": [
    {
     "name": "stdout",
     "output_type": "stream",
     "text": [
      "^C\n"
     ]
    }
   ],
   "source": [
    "!pip install tensorboard"
   ]
  },
  {
   "cell_type": "code",
   "execution_count": null,
   "id": "bd5b32dd",
   "metadata": {},
   "outputs": [],
   "source": []
  }
 ],
 "metadata": {
  "kernelspec": {
   "display_name": "Python 3 (ipykernel)",
   "language": "python",
   "name": "python3"
  },
  "language_info": {
   "codemirror_mode": {
    "name": "ipython",
    "version": 3
   },
   "file_extension": ".py",
   "mimetype": "text/x-python",
   "name": "python",
   "nbconvert_exporter": "python",
   "pygments_lexer": "ipython3",
   "version": "3.8.16"
  }
 },
 "nbformat": 4,
 "nbformat_minor": 5
}
