{
 "cells": [
  {
   "cell_type": "code",
   "execution_count": 1,
   "metadata": {},
   "outputs": [],
   "source": [
    "from transformers import GPT2Tokenizer, GPT2LMHeadModel, AutoTokenizer\n",
    "\n",
    "model_name_or_path = \"F:\\\\AI_Models\\\\suanni\\\\checkpoint-94000\"\n",
    "tokenizer = AutoTokenizer.from_pretrained(model_name_or_path)\n",
    "\n",
    "# add the EOS token as PAD token to avoid warnings\n",
    "model = GPT2LMHeadModel.from_pretrained(model_name_or_path, pad_token_id=tokenizer.eos_token_id)"
   ]
  },
  {
   "cell_type": "code",
   "execution_count": 3,
   "metadata": {},
   "outputs": [
    {
     "name": "stdout",
     "output_type": "stream",
     "text": [
      "Output:\n",
      "----------------------------------------------------------------------------------------------------\n",
      "你 好??? ， 。 是 的 意 思 ， 也 就 是 我 们 常 说 的 元 素 ， 它 是 一 种 有 机 化 合 物 ， 具 有 很 强 的 吸 附 力 ， 能 够 吸 收 大 量 的 有 害 物 质 ， 从 而 起 到 一 定 的 保 护 作 用 。 但 是 ， 如 果 你 不 知 道 它 的 存 在 ， 那 么 你 就 很 容 易 被 它 吸 引 。 所 以 ， 你 可 以 把 它 放 在 一 个 很 好 的 地 方 ， 比 如 说 你 家 里 的 电 视 机 、 电 脑 、 冰 箱 、 洗 衣 机 等 等 ， 这 些 东 西 都 是 不 可 或 缺 的 。 这 个 时 候 ， 就 需 要 你 去 了 解 一 下 它 ， 然 后 去 研 究 它 到 底 有 什 么 用 ， 以 及 它 对 人 体 有 多 大 的 危 害 。 第 二 个 ，\n"
     ]
    }
   ],
   "source": [
    "def generate(txt):\n",
    "    # encode context the generation is conditioned on\n",
    "    input_ids = tokenizer.encode(txt, return_tensors='pt')\n",
    "    # set no_repeat_ngram_size to 2\n",
    "    beam_output = model.generate(\n",
    "        input_ids, \n",
    "        max_length=200, \n",
    "        num_beams=5, \n",
    "        no_repeat_ngram_size=2, \n",
    "        early_stopping=True\n",
    "    )\n",
    "\n",
    "    print(\"Output:\\n\" + 100 * '-')\n",
    "    print(tokenizer.decode(beam_output[0], skip_special_tokens=True))\n",
    "\n",
    "generate(\"你好\")"
   ]
  },
  {
   "cell_type": "code",
   "execution_count": 4,
   "metadata": {},
   "outputs": [
    {
     "name": "stdout",
     "output_type": "stream",
     "text": [
      "Output:\n",
      "----------------------------------------------------------------------------------------------------\n",
      "谁 发 明 了 架 构??, 简 单 的 描 述 是, 答 案 是 是 一 种 由 公 司 开 发 的 系 统 ， 它 的 主 要 特 点 是 ： 1 、 可 以 自 动 识 别 的 所 有 数 据 ， 包 括 、 和 等 。 2 、 支 持 / 协 议 。 3 、 具 有 - 功 能 。 4 、 能 够 实 时 监 控 ， 并 且 在 环 境 下 运 行 。 5 、 使 用 语 言 编 写 程 序 。 6 、 提 供 了 一 个 可 编 程 的 编 译 器 。 7 、 对 进 行 了 改 进 。 8 、 增 加 了 许 多 新 的 特 性 。 9 、 加 入 了 更 多 的 应 用 ， 例 如 ： 。 10 、 允 许 用 户 自 由 选 择 自 己 喜 欢 的 操 作 模 式 。 11 、 自 定 义\n"
     ]
    }
   ],
   "source": [
    "generate(\"谁发明了 Transformer 架构?\")"
   ]
  },
  {
   "cell_type": "code",
   "execution_count": 7,
   "metadata": {},
   "outputs": [
    {
     "name": "stdout",
     "output_type": "stream",
     "text": [
      "Output:\n",
      "----------------------------------------------------------------------------------------------------\n",
      "问 题 ： 金 庸 小 说 里 最 萌 的 人 物 是 谁 ？ 回 答 ：??, 简 单 的 描 述 是 我 是 一 个 文 学 爱 好 者 ， 喜 欢 读 书 ， 对 文 字 有 着 浓 厚 的 兴 趣 。 < br > 小 学 的 时 候 ， 曾 经 读 过 一 篇 文 章 ， 里 面 有 一 句 话 ， 说 的 就 是 ： 人 生 如 戏 ， 戏 如 生 。 我 当 时 就 想 ， 如 果 没 有 这 样 的 经 历 ， 我 也 不 会 有 今 天 这 个 样 子 。 但 是 ， 当 我 长 大 后 ， 发 现 自 己 并 不 是 那 么 的 有 文 采 ， 而 是 这 种 文 人 的 气 质 ， 让 我 有 了 一 种 很 强 烈 的 感 觉 ， 就 像 是 在 看 一 部 电 影 一 样 。 当 然 ， 也 有 很 多 人 对 我 说 ， 你 看 过 的 那\n"
     ]
    }
   ],
   "source": [
    "generate(\"问题：金庸小说里最萌的人物是谁？回答：\")"
   ]
  }
 ],
 "metadata": {
  "kernelspec": {
   "display_name": "Python 3",
   "language": "python",
   "name": "python3"
  },
  "language_info": {
   "codemirror_mode": {
    "name": "ipython",
    "version": 3
   },
   "file_extension": ".py",
   "mimetype": "text/x-python",
   "name": "python",
   "nbconvert_exporter": "python",
   "pygments_lexer": "ipython3",
   "version": "3.10.12"
  },
  "orig_nbformat": 4
 },
 "nbformat": 4,
 "nbformat_minor": 2
}
