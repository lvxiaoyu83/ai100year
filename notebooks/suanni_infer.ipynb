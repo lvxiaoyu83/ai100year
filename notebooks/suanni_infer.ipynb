{
 "cells": [
  {
   "cell_type": "code",
   "execution_count": 1,
   "metadata": {},
   "outputs": [],
   "source": [
    "from transformers import GPT2Tokenizer, GPT2LMHeadModel, AutoTokenizer\n",
    "\n",
    "model_name_or_path = \"suanni\\\\checkpoint-12000\"\n",
    "tokenizer = AutoTokenizer.from_pretrained(model_name_or_path)\n",
    "\n",
    "# add the EOS token as PAD token to avoid warnings\n",
    "model = GPT2LMHeadModel.from_pretrained(model_name_or_path, pad_token_id=tokenizer.eos_token_id)"
   ]
  },
  {
   "cell_type": "code",
   "execution_count": 2,
   "metadata": {},
   "outputs": [
    {
     "name": "stdout",
     "output_type": "stream",
     "text": [
      "Output:\n",
      "----------------------------------------------------------------------------------------------------\n",
      "中 国 是 世 界 上 最 大 的 染 料 生 产 国 ， 也 是 全 球 主 要 的 纺 织 服 装 产 业 国 之 一 。 中 华 人 民 共 和 国 成 立 之 初 ， 就 已 经 形 成 了 一 套 完 整 的 工 业 体 系 ， 其 中 包 括 一 个 国 际 贸 易 中 心 ， 以 及 一 些 国 内 企 业 ， 如 美 国 、 日 本 、 韩 国 等 。 随 着 中 央 经 济 工 作 会 议 的 召 开 ， 中 方 经 贸 合 作 也 在 不 断 地 进 行 。 在 这 个 过 程 中 ， 我 们 发 现 了 很 多 新 的 商 业 模 式 ， 比 如 说 ， 在 国 家 层 面 上 ， 有 很 大 一 部 分 是 从 国 外 引 进 来 的 ， 这 些 都 是 我 国 的 特 色 。 这 就 是 为 什 么 在 我 看 来 ， 新 一 轮 的 改 革 开 放 ，\n"
     ]
    }
   ],
   "source": [
    "txt = \"\"\"\\\n",
    "中国是世界上最大的\n",
    "\"\"\"\n",
    "# encode context the generation is conditioned on\n",
    "input_ids = tokenizer.encode(txt, return_tensors='pt')\n",
    "# set no_repeat_ngram_size to 2\n",
    "beam_output = model.generate(\n",
    "    input_ids, \n",
    "    max_length=200, \n",
    "    num_beams=5, \n",
    "    no_repeat_ngram_size=2, \n",
    "    early_stopping=True\n",
    ")\n",
    "\n",
    "print(\"Output:\\n\" + 100 * '-')\n",
    "print(tokenizer.decode(beam_output[0], skip_special_tokens=True))"
   ]
  }
 ],
 "metadata": {
  "kernelspec": {
   "display_name": "Python 3",
   "language": "python",
   "name": "python3"
  },
  "language_info": {
   "codemirror_mode": {
    "name": "ipython",
    "version": 3
   },
   "file_extension": ".py",
   "mimetype": "text/x-python",
   "name": "python",
   "nbconvert_exporter": "python",
   "pygments_lexer": "ipython3",
   "version": "3.8.16"
  },
  "orig_nbformat": 4
 },
 "nbformat": 4,
 "nbformat_minor": 2
}
