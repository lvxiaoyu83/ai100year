{
 "cells": [
  {
   "cell_type": "markdown",
   "metadata": {},
   "source": [
    "Neural Network implemented from scratch in Python\n",
    "\n",
    "https://twitter.com/Sumanth_077/status/1683849480611962884"
   ]
  },
  {
   "cell_type": "code",
   "execution_count": null,
   "metadata": {},
   "outputs": [],
   "source": [
    "import numpy as np\n",
    "\n",
    "class NeuralNetwork:\n",
    "# Below is the simple Neural Network consists of 2 layers:\n",
    "# - Hidden Layer\n",
    "# - Output Layer\n",
    "# First Initialize the size of layers along with the weights & biases.\n",
    "# And also define the sigmoid activation function & it's derivative which is really key to introduce non-linearity.\n",
    "    def __init__(self, input_size, hideen_size, output_size):\n",
    "        self.input_size = input_size\n",
    "        self.hidden_size = hideen_size\n",
    "        self.output_size = output_size\n",
    "\n",
    "        self.W1 = np.random.randn(self.input_size, self.hidden_size)\n",
    "        self.b1 = np.zeros((1, self.hidden_size))\n",
    "\n",
    "    def sigmoid(self, x):\n",
    "        return 1 / (1 + np.exp(-x))\n",
    "    \n",
    "    def sigmoid_derivative(self, x):\n",
    "        return x * (1 - x)\n",
    "\n",
    "# Forward Pass:\n",
    "# Here the input data is passed through the neural network to obtain the predicted output.\n",
    "# In forward pass, First calculate the output of the hidden layer.\n",
    "# hidden_output = X•W1 + b1\n",
    "# Then apply the sigmoid activation to the output.\n",
    "# output = sigmoid( (X•W1) + b1)    \n",
    "    def forward(self, X):\n",
    "        self.hidden_output = self.sigmoid(np.dot(X, self.W1) + self.b1)\n",
    "        self.output = self.sigmod(np.dot(self.hidden_output, self.W2) + self.b2)\n",
    "        return self.output\n",
    "\n",
    "    def backword(self, X, y, learning_rate):\n",
    "        pass\n",
    "\n",
    "# Now a method to train the neural network using both the forward and backward passes.\n",
    "# The function will run for specified no of epochs, calculating:\n",
    "# 1. The Forward Pass\n",
    "# 2. Backward Pass\n",
    "# 3. Updating the Weights\n",
    "    def train(self, X, y, epochs, learning_rate):\n",
    "        for epoch in range(epochs):\n",
    "            output = self.forward(X)\n",
    "            self.backword(X, y, learning_rate)\n",
    "            loss = np.mean((y - output) ** 2)\n",
    "\n",
    "# Finally the Predict Function \n",
    "# Now to predict on any new data all we need to do is a single Forward Pass through the Network:\n",
    "    def predict(self, X):\n",
    "        return self.forward(X)"
   ]
  }
 ],
 "metadata": {
  "language_info": {
   "name": "python"
  },
  "orig_nbformat": 4
 },
 "nbformat": 4,
 "nbformat_minor": 2
}
