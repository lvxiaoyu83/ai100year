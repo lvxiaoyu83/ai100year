{
 "cells": [
  {
   "cell_type": "code",
   "execution_count": null,
   "metadata": {},
   "outputs": [],
   "source": [
    "from datasets import load_dataset\n",
    "\n",
    "raw_datasets = load_dataset(\"squad\")\n",
    "\n",
    "raw_datasets"
   ]
  },
  {
   "cell_type": "code",
   "execution_count": null,
   "metadata": {},
   "outputs": [],
   "source": [
    "import torch\n",
    "from transformers import LlamaTokenizer, AutoModelForCausalLM\n",
    "\n",
    "tokenizer = LlamaTokenizer.from_pretrained(\"syzymon/long_llama_3b\")\n",
    "model = AutoModelForCausalLM.from_pretrained(\"syzymon/long_llama_3b\", \n",
    "                                            torch_dtype=torch.float32, \n",
    "                                            trust_remote_code=True)\n"
   ]
  }
 ],
 "metadata": {
  "kernelspec": {
   "display_name": "babagpt",
   "language": "python",
   "name": "python3"
  },
  "language_info": {
   "codemirror_mode": {
    "name": "ipython",
    "version": 3
   },
   "file_extension": ".py",
   "mimetype": "text/x-python",
   "name": "python",
   "nbconvert_exporter": "python",
   "pygments_lexer": "ipython3",
   "version": "3.8.16"
  },
  "orig_nbformat": 4
 },
 "nbformat": 4,
 "nbformat_minor": 2
}
